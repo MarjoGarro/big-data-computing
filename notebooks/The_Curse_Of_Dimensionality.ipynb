{
  "nbformat": 4,
  "nbformat_minor": 0,
  "metadata": {
    "kernelspec": {
      "display_name": "Python 3",
      "language": "python",
      "name": "python3"
    },
    "language_info": {
      "codemirror_mode": {
        "name": "ipython",
        "version": 3
      },
      "file_extension": ".py",
      "mimetype": "text/x-python",
      "name": "python",
      "nbconvert_exporter": "python",
      "pygments_lexer": "ipython3",
      "version": "3.6.7"
    },
    "colab": {
      "name": "Lecture_04_The_Curse_Of_Dimensionality.ipynb",
      "provenance": [],
      "collapsed_sections": []
    }
  },
  "cells": [
    {
      "cell_type": "markdown",
      "metadata": {
        "id": "wMPyZimzG-St",
        "colab_type": "text"
      },
      "source": [
        "# **The Curse of Dimensionality Explained**"
      ]
    },
    {
      "cell_type": "code",
      "metadata": {
        "id": "ucHbjtD0XkH7",
        "colab_type": "code",
        "colab": {}
      },
      "source": [
        "import numpy as np\n",
        "import seaborn as sns\n",
        "import matplotlib.pyplot as plt\n",
        "from itertools import combinations\n",
        "\n",
        "%matplotlib inline"
      ],
      "execution_count": 0,
      "outputs": []
    },
    {
      "cell_type": "markdown",
      "metadata": {
        "id": "kjCVw9KaXkIB",
        "colab_type": "text"
      },
      "source": [
        "## **1.** Setup the number $N$ of $d$-dimensional random points to be sampled"
      ]
    },
    {
      "cell_type": "code",
      "metadata": {
        "id": "OqrTp9C1XkIC",
        "colab_type": "code",
        "colab": {}
      },
      "source": [
        "N = 100 # number of data points\n",
        "dim = [1,2,3,10,100,1000,10000,100000,1000000] # number of dimensions"
      ],
      "execution_count": 0,
      "outputs": []
    },
    {
      "cell_type": "markdown",
      "metadata": {
        "id": "thz1HQ8-XkIE",
        "colab_type": "text"
      },
      "source": [
        "## **2.** Extract $N$ samples uniformly drawn from the range $[0, 1)$ for each dimension $d$"
      ]
    },
    {
      "cell_type": "code",
      "metadata": {
        "id": "YHyKDbkIXkIF",
        "colab_type": "code",
        "colab": {}
      },
      "source": [
        "samples = {}\n",
        "for d in dim:\n",
        "    samples[d] = np.random.rand(N, d) # sample N d-dimensional data points"
      ],
      "execution_count": 0,
      "outputs": []
    },
    {
      "cell_type": "markdown",
      "metadata": {
        "id": "rgEds-MHXkII",
        "colab_type": "text"
      },
      "source": [
        "## **3.** Compute all pair distances between each point of an $N$-size sample of $d$-dimensional data points"
      ]
    },
    {
      "cell_type": "code",
      "metadata": {
        "id": "elTQdAwQXkII",
        "colab_type": "code",
        "colab": {}
      },
      "source": [
        "all_pairs_distances = {}\n",
        "max_distance = {}\n",
        "\n",
        "for d in dim:\n",
        "    dist_dim = []\n",
        "    for u, v in combinations(samples[d], 2):\n",
        "        dist_dim.append(np.linalg.norm(u-v))\n",
        "    all_pairs_distances[d] = dist_dim\n",
        "    max_distance[d] = np.max(dist_dim)"
      ],
      "execution_count": 0,
      "outputs": []
    },
    {
      "cell_type": "markdown",
      "metadata": {
        "id": "3efzeFrIXkIL",
        "colab_type": "text"
      },
      "source": [
        "## **4.** Plot the histogram along with the density estimate of the distribution of distances as computed for each value of $d$"
      ]
    },
    {
      "cell_type": "code",
      "metadata": {
        "id": "jdxDWspzXkIM",
        "colab_type": "code",
        "colab": {}
      },
      "source": [
        "# Set up the plot\n",
        "fig, axes = plt.subplots(3, 3, figsize=(16, 16))\n",
        "\n",
        "binwidth = 0.01\n",
        "\n",
        "for i,d in enumerate(dim):\n",
        "    ax = axes[i//3, i%3]\n",
        "    _ = sns.distplot(all_pairs_distances[d], bins = int(1/binwidth), ax=ax)\n",
        "    _ = ax.set_xlim([0, 1.5*max_distance[d]])\n",
        "    _ = ax.set_ylabel(\"Density\")\n",
        "    _ = ax.set_title(\"N. of Dimensions = {}\".format(d))\n",
        "plt.subplots_adjust(wspace=.3, hspace=.3)"
      ],
      "execution_count": 0,
      "outputs": []
    }
  ]
}
